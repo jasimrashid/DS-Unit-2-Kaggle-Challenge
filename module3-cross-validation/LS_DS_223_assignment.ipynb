{
  "cells": [
    {
      "cell_type": "markdown",
      "metadata": {
        "id": "hpfMCer6vxD5",
        "colab_type": "text"
      },
      "source": [
        "Lambda School Data Science\n",
        "\n",
        "*Unit 2, Sprint 2, Module 3*\n",
        "\n",
        "---"
      ]
    },
    {
      "cell_type": "markdown",
      "metadata": {
        "id": "yLSTqXjlvxD6",
        "colab_type": "text"
      },
      "source": [
        "# Cross-Validation\n",
        "\n",
        "\n",
        "## Assignment\n",
        "- [ ] [Review requirements for your portfolio project](https://lambdaschool.github.io/ds/unit2), then submit your dataset.\n",
        "- [ ] Continue to participate in our Kaggle challenge. \n",
        "- [ ] Use scikit-learn for hyperparameter optimization with RandomizedSearchCV.\n",
        "- [ ] Submit your predictions to our Kaggle competition. (Go to our Kaggle InClass competition webpage. Use the blue **Submit Predictions** button to upload your CSV file. Or you can use the Kaggle API to submit your predictions.)\n",
        "- [ ] Commit your notebook to your fork of the GitHub repo.\n",
        "\n",
        "\n",
        "**You can't just copy** from the lesson notebook to this assignment.\n",
        "\n",
        "- Because the lesson was **regression**, but the assignment is **classification.**\n",
        "- Because the lesson used [TargetEncoder](https://contrib.scikit-learn.org/categorical-encoding/targetencoder.html), which doesn't work as-is for _multi-class_ classification.\n",
        "\n",
        "So you will have to adapt the example, which is good real-world practice.\n",
        "\n",
        "1. Use a model for classification, such as [RandomForestClassifier](https://scikit-learn.org/stable/modules/generated/sklearn.ensemble.RandomForestClassifier.html)\n",
        "2. Use hyperparameters that match the classifier, such as `randomforestclassifier__ ...`\n",
        "3. Use a metric for classification, such as [`scoring='accuracy'`](https://scikit-learn.org/stable/modules/model_evaluation.html#common-cases-predefined-values)\n",
        "4. If you’re doing a multi-class classification problem — such as whether a waterpump is functional, functional needs repair, or nonfunctional — then use a categorical encoding that works for multi-class classification, such as [OrdinalEncoder](https://contrib.scikit-learn.org/categorical-encoding/ordinal.html) (not [TargetEncoder](https://contrib.scikit-learn.org/categorical-encoding/targetencoder.html))\n",
        "\n",
        "\n",
        "\n",
        "## Stretch Goals\n",
        "\n",
        "### Reading\n",
        "- Jake VanderPlas, [Python Data Science Handbook, Chapter 5.3](https://jakevdp.github.io/PythonDataScienceHandbook/05.03-hyperparameters-and-model-validation.html), Hyperparameters and Model Validation\n",
        "- Jake VanderPlas, [Statistics for Hackers](https://speakerdeck.com/jakevdp/statistics-for-hackers?slide=107)\n",
        "- Ron Zacharski, [A Programmer's Guide to Data Mining, Chapter 5](http://guidetodatamining.com/chapter5/), 10-fold cross validation\n",
        "- Sebastian Raschka, [A Basic Pipeline and Grid Search Setup](https://github.com/rasbt/python-machine-learning-book/blob/master/code/bonus/svm_iris_pipeline_and_gridsearch.ipynb)\n",
        "- Peter Worcester, [A Comparison of Grid Search and Randomized Search Using Scikit Learn](https://blog.usejournal.com/a-comparison-of-grid-search-and-randomized-search-using-scikit-learn-29823179bc85)\n",
        "\n",
        "### Doing\n",
        "- Add your own stretch goals!\n",
        "- Try other [categorical encodings](https://contrib.scikit-learn.org/categorical-encoding/). See the previous assignment notebook for details.\n",
        "- In additon to `RandomizedSearchCV`, scikit-learn has [`GridSearchCV`](https://scikit-learn.org/stable/modules/generated/sklearn.model_selection.GridSearchCV.html). Another library called scikit-optimize has [`BayesSearchCV`](https://scikit-optimize.github.io/notebooks/sklearn-gridsearchcv-replacement.html). Experiment with these alternatives.\n",
        "- _[Introduction to Machine Learning with Python](http://shop.oreilly.com/product/0636920030515.do)_ discusses options for \"Grid-Searching Which Model To Use\" in Chapter 6:\n",
        "\n",
        "> You can even go further in combining GridSearchCV and Pipeline: it is also possible to search over the actual steps being performed in the pipeline (say whether to use StandardScaler or MinMaxScaler). This leads to an even bigger search space and should be considered carefully. Trying all possible solutions is usually not a viable machine learning strategy. However, here is an example comparing a RandomForestClassifier and an SVC ...\n",
        "\n",
        "The example is shown in [the accompanying notebook](https://github.com/amueller/introduction_to_ml_with_python/blob/master/06-algorithm-chains-and-pipelines.ipynb), code cells 35-37. Could you apply this concept to your own pipelines?\n"
      ]
    },
    {
      "cell_type": "markdown",
      "metadata": {
        "id": "DzIDBXTIvxD6",
        "colab_type": "text"
      },
      "source": [
        "### BONUS: Stacking!\n",
        "\n",
        "Here's some code you can use to \"stack\" multiple submissions, which is another form of ensembling:\n",
        "\n",
        "```python\n",
        "import pandas as pd\n",
        "\n",
        "# Filenames of your submissions you want to ensemble\n",
        "files = ['submission-01.csv', 'submission-02.csv', 'submission-03.csv']\n",
        "\n",
        "target = 'status_group'\n",
        "submissions = (pd.read_csv(file)[[target]] for file in files)\n",
        "ensemble = pd.concat(submissions, axis='columns')\n",
        "majority_vote = ensemble.mode(axis='columns')[0]\n",
        "\n",
        "sample_submission = pd.read_csv('sample_submission.csv')\n",
        "submission = sample_submission.copy()\n",
        "submission[target] = majority_vote\n",
        "submission.to_csv('my-ultimate-ensemble-submission.csv', index=False)\n",
        "```"
      ]
    },
    {
      "cell_type": "code",
      "metadata": {
        "id": "MDCOSSzKvxD7",
        "colab_type": "code",
        "colab": {}
      },
      "source": [
        "import sys\n",
        "\n",
        "# If you're on Colab:\n",
        "if 'google.colab' in sys.modules:\n",
        "    DATA_PATH = 'https://raw.githubusercontent.com/LambdaSchool/DS-Unit-2-Kaggle-Challenge/master/data/'\n",
        "    !pip install category_encoders==2.*\n",
        "    !pip install pandas-profiling==2.*\n",
        "\n",
        "# If you're working locally:\n",
        "else:\n",
        "    DATA_PATH = '/Users/jasimrashid/Downloads/Datasets/ds15-predictive-modeling-challenge'\n",
        "    # !pip install category_encoders==2.*\n",
        "    # !pip install pandas-profiling==2.*"
      ],
      "execution_count": 4,
      "outputs": []
    },
    {
      "cell_type": "code",
      "metadata": {
        "id": "zRBUmS2PvxD_",
        "colab_type": "code",
        "colab": {}
      },
      "source": [
        "import pandas as pd\n",
        "from sklearn.model_selection import train_test_split\n",
        "\n",
        "train = pd.merge(pd.read_csv(DATA_PATH+'/train_features.csv'), \n",
        "                 pd.read_csv(DATA_PATH+'/train_labels.csv'))\n",
        "test = pd.read_csv(DATA_PATH+'/test_features.csv')\n",
        "sample_submission = pd.read_csv(DATA_PATH+'/sample_submission.csv')\n",
        "\n",
        "train.shape, test.shape"
      ],
      "execution_count": 32,
      "outputs": [
        {
          "output_type": "execute_result",
          "data": {
            "text/plain": "((59400, 41), (14358, 40))"
          },
          "metadata": {},
          "execution_count": 32
        }
      ]
    },
    {
      "cell_type": "code",
      "metadata": {
        "id": "dyFicbyAvxEC",
        "colab_type": "code",
        "colab": {}
      },
      "source": [
        "# Split train into train and val\n",
        "train, val = train_test_split(train, train_size=0.80, test_size=.2, \n",
        "                              stratify=train['status_group'], random_state=42)\n",
        "train.shape, val.shape, test.shape"
      ],
      "execution_count": 7,
      "outputs": [
        {
          "output_type": "execute_result",
          "data": {
            "text/plain": "((47520, 41), (11880, 41), (14358, 40))"
          },
          "metadata": {},
          "execution_count": 7
        }
      ]
    },
    {
      "cell_type": "code",
      "execution_count": 33,
      "metadata": {},
      "outputs": [],
      "source": [
        "submission = test[['id']].copy()"
      ]
    },
    {
      "cell_type": "code",
      "execution_count": 12,
      "metadata": {},
      "outputs": [],
      "source": [
        "import numpy as np\n",
        "def wrangle(X):\n",
        "    \"\"\"Wrangle train, validate, and test sets in the same way\"\"\"\n",
        "    \n",
        "    # Prevent SettingWithCopyWarning\n",
        "    X = X.copy()\n",
        "    \n",
        "    # About 3% of the time, latitude has small values near zero,\n",
        "    # outside Tanzania, so we'll treat these values like zero.\n",
        "    X['latitude'] = X['latitude'].replace(-2e-08, 0)\n",
        "    \n",
        "    # When columns have zeros and shouldn't, they are like null values.\n",
        "    # So we will replace the zeros with nulls, and impute missing values later.\n",
        "    # Also create a \"missing indicator\" column, because the fact that\n",
        "    # values are missing may be a predictive signal.\n",
        "    cols_with_zeros = ['longitude', 'latitude', 'construction_year', \n",
        "                       'gps_height', 'population']\n",
        "    for col in cols_with_zeros:\n",
        "        X[col] = X[col].replace(0, np.nan)\n",
        "        X[col+'_MISSING'] = X[col].isnull()\n",
        "            \n",
        "    # Drop duplicate columns\n",
        "    duplicates = ['quantity_group', 'payment_type']\n",
        "    X = X.drop(columns=duplicates)\n",
        "    \n",
        "    # Drop recorded_by (never varies) and id (always varies, random)\n",
        "    unusable_variance = ['recorded_by','id']\n",
        "    X = X.drop(columns=unusable_variance)\n",
        "    \n",
        "    # Convert date_recorded to datetime\n",
        "    X['date_recorded'] = pd.to_datetime(X['date_recorded'], infer_datetime_format=True)\n",
        "    \n",
        "    # Extract components from date_recorded, then drop the original column\n",
        "    X['year_recorded'] = X['date_recorded'].dt.year\n",
        "    X['month_recorded'] = X['date_recorded'].dt.month\n",
        "    X['day_recorded'] = X['date_recorded'].dt.day\n",
        "    X = X.drop(columns='date_recorded')\n",
        "    \n",
        "    # Engineer feature: how many years from construction_year to date_recorded\n",
        "    X['years'] = X['year_recorded'] - X['construction_year']\n",
        "    X['years_MISSING'] = X['years'].isnull()\n",
        "    \n",
        "    # return the wrangled dataframe\n",
        "    return X\n",
        "\n",
        "train = wrangle(train)\n",
        "val = wrangle(val)\n",
        "test = wrangle(test)"
      ]
    },
    {
      "cell_type": "code",
      "execution_count": 13,
      "metadata": {},
      "outputs": [],
      "source": [
        "# The status_group column is the target\n",
        "target = 'status_group'\n",
        "\n",
        "# Get a dataframe with all train columns except the target\n",
        "# train_features = train.drop(columns=[target,'region_code'])\n",
        "train_features = train.drop(columns=[target,'region_code','ward'])\n",
        "\n",
        "# Get a list of the numeric features\n",
        "numeric_features = train_features.select_dtypes(include='number').columns.tolist()\n",
        "\n",
        "# Get a series with the cardinality of the nonnumeric features\n",
        "cardinality = train_features.select_dtypes(exclude='number').nunique()\n",
        "\n",
        "# Get a list of all categorical features with cardinality <= 50\n",
        "categorical_features = cardinality[cardinality <= 50].index.tolist()\n",
        "\n",
        "# Combine the lists \n",
        "features = numeric_features + categorical_features"
      ]
    },
    {
      "cell_type": "code",
      "execution_count": 14,
      "metadata": {},
      "outputs": [],
      "source": [
        "# Arrange data into X features matrix and y target vector \n",
        "X_train = train[features]\n",
        "y_train = train[target]\n",
        "X_val = val[features]\n",
        "y_val = val[target]\n",
        "X_test = test[features]"
      ]
    },
    {
      "cell_type": "code",
      "execution_count": 25,
      "metadata": {},
      "outputs": [
        {
          "output_type": "stream",
          "name": "stdout",
          "text": "Fitting 3 folds for each of 20 candidates, totalling 60 fits\n[Parallel(n_jobs=-1)]: Using backend LokyBackend with 4 concurrent workers.\n[Parallel(n_jobs=-1)]: Done   5 tasks      | elapsed:   47.1s\n[Parallel(n_jobs=-1)]: Done  10 tasks      | elapsed:  2.4min\n[Parallel(n_jobs=-1)]: Done  17 tasks      | elapsed:  3.2min\n[Parallel(n_jobs=-1)]: Done  24 tasks      | elapsed:  7.3min\n[Parallel(n_jobs=-1)]: Done  33 tasks      | elapsed: 10.8min\n[Parallel(n_jobs=-1)]: Done  42 tasks      | elapsed: 13.1min\n[Parallel(n_jobs=-1)]: Done  53 tasks      | elapsed: 16.1min\n[Parallel(n_jobs=-1)]: Done  60 out of  60 | elapsed: 16.5min remaining:    0.0s\n[Parallel(n_jobs=-1)]: Done  60 out of  60 | elapsed: 16.5min finished\n"
        }
      ],
      "source": [
        "import category_encoders as ce\n",
        "from scipy.stats import randint, uniform\n",
        "from sklearn.impute import SimpleImputer\n",
        "from sklearn.model_selection import cross_val_score\n",
        "from sklearn.pipeline import make_pipeline\n",
        "from sklearn.ensemble import RandomForestClassifier\n",
        "import numpy as np\n",
        "from sklearn.model_selection import RandomizedSearchCV\n",
        "\n",
        "pipeline = make_pipeline(\n",
        "    ce.OrdinalEncoder(),\n",
        "    SimpleImputer(),\n",
        "    RandomForestClassifier(random_state=42)\n",
        ")\n",
        "\n",
        "param_distributions = {\n",
        "    'simpleimputer__strategy': ['mean','median','most_frequent'],\n",
        "    'randomforestclassifier__n_estimators': (50,500),\n",
        "    'randomforestclassifier__criterion': ['gini','entropy'],\n",
        "    'randomforestclassifier__max_depth': [5,10,15,20,25,30,35,40,45,None],\n",
        "    # 'randomforestclassifier__min_samples_split': [1,2,3]\n",
        "    'randomforestclassifier__min_samples_leaf': [1,2,3],\n",
        "    # 'randomforestclassifier__max_leaf_nodes'\n",
        "    'randomforestclassifier__max_features': uniform(0,1)\n",
        "}\n",
        "\n",
        "search = RandomizedSearchCV(\n",
        "    pipeline,\n",
        "    param_distributions = param_distributions,\n",
        "    n_iter = 20,\n",
        "    cv = 3,\n",
        "    scoring = 'accuracy',\n",
        "    verbose = 10,\n",
        "    return_train_score=True,\n",
        "    n_jobs=-1\n",
        ")\n",
        "\n",
        "search.fit(X_train, y_train);\n",
        "\n",
        "\n",
        "\n",
        "\n"
      ]
    },
    {
      "cell_type": "code",
      "execution_count": 26,
      "metadata": {},
      "outputs": [
        {
          "output_type": "stream",
          "name": "stdout",
          "text": "Best hyperparameters {'randomforestclassifier__criterion': 'entropy', 'randomforestclassifier__max_depth': 35, 'randomforestclassifier__max_features': 0.8123893460865124, 'randomforestclassifier__min_samples_leaf': 3, 'randomforestclassifier__n_estimators': 500, 'simpleimputer__strategy': 'mean'}\nCross-validation MAE -0.7993055555555556\n"
        }
      ],
      "source": [
        "print('Best hyperparameters', search.best_params_)\n",
        "print('Cross-validation MAE', -search.best_score_)"
      ]
    },
    {
      "cell_type": "code",
      "execution_count": 27,
      "metadata": {},
      "outputs": [
        {
          "output_type": "execute_result",
          "data": {
            "text/plain": "             1   \nparam_randomforestclassifier__n_estimators                                                     50   \nparam_simpleimputer__strategy                                                              median   \nparams                                          {'randomforestclassifier__criterion': 'entropy...   \nsplit0_test_score                                                                        0.789962   \nsplit1_test_score                                                                        0.798043   \nsplit2_test_score                                                                        0.791667   \nmean_test_score                                                                          0.793224   \nstd_test_score                                                                         0.00347789   \nrank_test_score                                                                                12   \nsplit0_train_score                                                                       0.995802   \nsplit1_train_score                                                                       0.995896   \nsplit2_train_score                                                                       0.994855   \nmean_train_score                                                                         0.995518   \nstd_train_score                                                                       0.000470318   \n\n                                                                                               19  \\\nmean_fit_time                                                                             9.69615   \nstd_fit_time                                                                             0.666278   \nmean_score_time                                                                          0.453108   \nstd_score_time                                                                          0.0390214   \nparam_randomforestclassifier__criterion                                                      gini   \nparam_randomforestclassifier__max_depth                                                        40   \nparam_randomforestclassifier__max_features                                               0.394263   \nparam_randomforestclassifier__min_samples_leaf                                                  1   \nparam_randomforestclassifier__n_estimators                                                     50   \nparam_simpleimputer__strategy                                                              median   \nparams                                          {'randomforestclassifier__criterion': 'gini', ...   \nsplit0_test_score                                                                        0.790341   \nsplit1_test_score                                                                        0.798295   \nsplit2_test_score                                                                         0.79053   \nmean_test_score                                                                          0.793056   \nstd_test_score                                                                         0.00370597   \nrank_test_score                                                                                13   \nsplit0_train_score                                                                       0.997601   \nsplit1_train_score                                                                       0.997696   \nsplit2_train_score                                                                       0.997569   \nmean_train_score                                                                         0.997622   \nstd_train_score                                                                       5.36513e-05   \n\n                                                                                               8   \\\nmean_fit_time                                                                             19.3002   \nstd_fit_time                                                                             0.327495   \nmean_score_time                                                                          0.424855   \nstd_score_time                                                                         0.00796964   \nparam_randomforestclassifier__criterion                                                   entropy   \nparam_randomforestclassifier__max_depth                                                        15   \nparam_randomforestclassifier__max_features                                               0.865381   \nparam_randomforestclassifier__min_samples_leaf                                                  3   \nparam_randomforestclassifier__n_estimators                                                     50   \nparam_simpleimputer__strategy                                                       most_frequent   \nparams                                          {'randomforestclassifier__criterion': 'entropy...   \nsplit0_test_score                                                                        0.792487   \nsplit1_test_score                                                                        0.796465   \nsplit2_test_score                                                                        0.787437   \nmean_test_score                                                                           0.79213   \nstd_test_score                                                                         0.00369425   \nrank_test_score                                                                                14   \nsplit0_train_score                                                                       0.876357   \nsplit1_train_score                                                                       0.873295   \nsplit2_train_score                                                                       0.871212   \nmean_train_score                                                                         0.873622   \nstd_train_score                                                                        0.00211314   \n\n                                                                                               3   \\\nmean_fit_time                                                                             15.4394   \nstd_fit_time                                                                              1.28438   \nmean_score_time                                                                          0.394637   \nstd_score_time                                                                         0.00515199   \nparam_randomforestclassifier__criterion                                                      gini   \nparam_randomforestclassifier__max_depth                                                        15   \nparam_randomforestclassifier__max_features                                               0.807044   \nparam_randomforestclassifier__min_samples_leaf                                                  3   \nparam_randomforestclassifier__n_estimators                                                     50   \nparam_simpleimputer__strategy                                                                mean   \nparams                                          {'randomforestclassifier__criterion': 'gini', ...   \nsplit0_test_score                                                                        0.791982   \nsplit1_test_score                                                                        0.796465   \nsplit2_test_score                                                                        0.786679   \nmean_test_score                                                                          0.791709   \nstd_test_score                                                                         0.00399953   \nrank_test_score                                                                                15   \nsplit0_train_score                                                                       0.869287   \nsplit1_train_score                                                                       0.869571   \nsplit2_train_score                                                                       0.863889   \nmean_train_score                                                                         0.867582   \nstd_train_score                                                                        0.00261405   \n\n                                                                                               13  \\\nmean_fit_time                                                                             13.7811   \nstd_fit_time                                                                             0.129224   \nmean_score_time                                                                          0.448423   \nstd_score_time                                                                          0.0134415   \nparam_randomforestclassifier__criterion                                                      gini   \nparam_randomforestclassifier__max_depth                                                        30   \nparam_randomforestclassifier__max_features                                               0.628037   \nparam_randomforestclassifier__min_samples_leaf                                                  1   \nparam_randomforestclassifier__n_estimators                                                     50   \nparam_simpleimputer__strategy                                                              median   \nparams                                          {'randomforestclassifier__criterion': 'gini', ...   \nsplit0_test_score                                                                        0.788699   \nsplit1_test_score                                                                         0.79577   \nsplit2_test_score                                                                        0.789205   \nmean_test_score                                                                          0.791225   \nstd_test_score                                                                         0.00322073   \nrank_test_score                                                                                16   \nsplit0_train_score                                                                       0.997159   \nsplit1_train_score                                                                       0.997222   \nsplit2_train_score                                                                       0.996907   \nmean_train_score                                                                         0.997096   \nstd_train_score                                                                       0.000136379   \n\n                                                                                               4   \\\nmean_fit_time                                                                             24.5177   \nstd_fit_time                                                                             0.261422   \nmean_score_time                                                                           3.14233   \nstd_score_time                                                                           0.112575   \nparam_randomforestclassifier__criterion                                                   entropy   \nparam_randomforestclassifier__max_depth                                                        45   \nparam_randomforestclassifier__max_features                                              0.0217714   \nparam_randomforestclassifier__min_samples_leaf                                                  1   \nparam_randomforestclassifier__n_estimators                                                    500   \nparam_simpleimputer__strategy                                                              median   \nparams                                          {'randomforestclassifier__criterion': 'entropy...   \nsplit0_test_score                                                                        0.785227   \nsplit1_test_score                                                                        0.795833   \nsplit2_test_score                                                                        0.788258   \nmean_test_score                                                                          0.789773   \nstd_test_score                                                                         0.00446049   \nrank_test_score                                                                                17   \nsplit0_train_score                                                                        0.99839   \nsplit1_train_score                                                                       0.998327   \nsplit2_train_score                                                                       0.998264   \nmean_train_score                                                                         0.998327   \nstd_train_score                                                                       5.15465e-05   \n\n                                                                                               12  \\\nmean_fit_time                                                                             13.8907   \nstd_fit_time                                                                             0.252296   \nmean_score_time                                                                           2.03899   \nstd_score_time                                                                          0.0473912   \nparam_randomforestclassifier__criterion                                                      gini   \nparam_randomforestclassifier__max_depth                                                        20   \nparam_randomforestclassifier__max_features                                              0.0170376   \nparam_randomforestclassifier__min_samples_leaf                                                  3   \nparam_randomforestclassifier__n_estimators                                                    500   \nparam_simpleimputer__strategy                                                       most_frequent   \nparams                                          {'randomforestclassifier__criterion': 'gini', ...   \nsplit0_test_score                                                                        0.773295   \nsplit1_test_score                                                                        0.778598   \nsplit2_test_score                                                                        0.774369   \nmean_test_score                                                                          0.775421   \nstd_test_score                                                                         0.00228923   \nrank_test_score                                                                                18   \nsplit0_train_score                                                                       0.821433   \nsplit1_train_score                                                                       0.822917   \nsplit2_train_score                                                                       0.824811   \nmean_train_score                                                                         0.823053   \nstd_train_score                                                                        0.00138226   \n\n                                                                                               17  \\\nmean_fit_time                                                                             41.7854   \nstd_fit_time                                                                             0.845748   \nmean_score_time                                                                           1.58509   \nstd_score_time                                                                           0.114037   \nparam_randomforestclassifier__criterion                                                   entropy   \nparam_randomforestclassifier__max_depth                                                        10   \nparam_randomforestclassifier__max_features                                               0.241447   \nparam_randomforestclassifier__min_samples_leaf                                                  2   \nparam_randomforestclassifier__n_estimators                                                    500   \nparam_simpleimputer__strategy                                                                mean   \nparams                                          {'randomforestclassifier__criterion': 'entropy...   \nsplit0_test_score                                                                        0.766162   \nsplit1_test_score                                                                        0.767235   \nsplit2_test_score                                                                        0.759912   \nmean_test_score                                                                          0.764436   \nstd_test_score                                                                          0.0032291   \nrank_test_score                                                                                19   \nsplit0_train_score                                                                       0.783491   \nsplit1_train_score                                                                       0.784501   \nsplit2_train_score                                                                       0.783965   \nmean_train_score                                                                         0.783986   \nstd_train_score                                                                        0.00041264   \n\n                                                                                               5   \nmean_fit_time                                                                             1.92131  \nstd_fit_time                                                                             0.062291  \nmean_score_time                                                                           0.28788  \nstd_score_time                                                                          0.0113152  \nparam_randomforestclassifier__criterion                                                   entropy  \nparam_randomforestclassifier__max_depth                                                         5  \nparam_randomforestclassifier__max_features                                               0.104839  \nparam_randomforestclassifier__min_samples_leaf                                                  3  \nparam_randomforestclassifier__n_estimators                                                     50  \nparam_simpleimputer__strategy                                                              median  \nparams                                          {'randomforestclassifier__criterion': 'entropy...  \nsplit0_test_score                                                                        0.670139  \nsplit1_test_score                                                                        0.710354  \nsplit2_test_score                                                                        0.699179  \nmean_test_score                                                                          0.693224  \nstd_test_score                                                                           0.016949  \nrank_test_score                                                                                20  \nsplit0_train_score                                                                       0.673201  \nsplit1_train_score                                                                       0.707702  \nsplit2_train_score                                                                       0.706913  \nmean_train_score                                                                         0.695939  \nstd_train_score                                                                         0.0160813  ",
            "text/html": "<div>\n<style scoped>\n    .dataframe tbody tr th:only-of-type {\n        vertical-align: middle;\n    }\n\n    .dataframe tbody tr th {\n        vertical-align: top;\n    }\n\n    .dataframe thead th {\n        text-align: right;\n    }\n</style>\n<table border=\"1\" class=\"dataframe\">\n  <thead>\n    <tr style=\"text-align: right;\">\n      <th></th>\n      <th>11</th>\n      <th>18</th>\n      <th>15</th>\n      <th>1</th>\n      <th>2</th>\n      <th>9</th>\n      <th>6</th>\n      <th>7</th>\n      <th>14</th>\n      <th>10</th>\n      <th>16</th>\n      <th>0</th>\n      <th>19</th>\n      <th>8</th>\n      <th>3</th>\n      <th>13</th>\n      <th>4</th>\n      <th>12</th>\n      <th>17</th>\n      <th>5</th>\n    </tr>\n  </thead>\n  <tbody>\n    <tr>\n      <th>mean_fit_time</th>\n      <td>181.518</td>\n      <td>7.30273</td>\n      <td>5.76844</td>\n      <td>165.264</td>\n      <td>11.171</td>\n      <td>14.8207</td>\n      <td>200.346</td>\n      <td>192.621</td>\n      <td>197.028</td>\n      <td>87.874</td>\n      <td>13.8091</td>\n      <td>16.1237</td>\n      <td>9.69615</td>\n      <td>19.3002</td>\n      <td>15.4394</td>\n      <td>13.7811</td>\n      <td>24.5177</td>\n      <td>13.8907</td>\n      <td>41.7854</td>\n      <td>1.92131</td>\n    </tr>\n    <tr>\n      <th>std_fit_time</th>\n      <td>2.17789</td>\n      <td>0.0642426</td>\n      <td>0.174178</td>\n      <td>2.09732</td>\n      <td>0.577684</td>\n      <td>0.0670942</td>\n      <td>1.52886</td>\n      <td>4.26454</td>\n      <td>0.876031</td>\n      <td>0.895931</td>\n      <td>0.434204</td>\n      <td>0.199549</td>\n      <td>0.666278</td>\n      <td>0.327495</td>\n      <td>1.28438</td>\n      <td>0.129224</td>\n      <td>0.261422</td>\n      <td>0.252296</td>\n      <td>0.845748</td>\n      <td>0.062291</td>\n    </tr>\n    <tr>\n      <th>mean_score_time</th>\n      <td>2.34873</td>\n      <td>0.452144</td>\n      <td>0.444961</td>\n      <td>2.91819</td>\n      <td>0.448871</td>\n      <td>0.427499</td>\n      <td>2.88936</td>\n      <td>2.54262</td>\n      <td>2.55326</td>\n      <td>2.03911</td>\n      <td>0.38797</td>\n      <td>0.455481</td>\n      <td>0.453108</td>\n      <td>0.424855</td>\n      <td>0.394637</td>\n      <td>0.448423</td>\n      <td>3.14233</td>\n      <td>2.03899</td>\n      <td>1.58509</td>\n      <td>0.28788</td>\n    </tr>\n    <tr>\n      <th>std_score_time</th>\n      <td>0.0446447</td>\n      <td>0.0135674</td>\n      <td>0.0177779</td>\n      <td>0.111401</td>\n      <td>0.0253786</td>\n      <td>0.0243018</td>\n      <td>0.0631689</td>\n      <td>0.165922</td>\n      <td>0.109718</td>\n      <td>0.0461916</td>\n      <td>0.0288886</td>\n      <td>0.0388</td>\n      <td>0.0390214</td>\n      <td>0.00796964</td>\n      <td>0.00515199</td>\n      <td>0.0134415</td>\n      <td>0.112575</td>\n      <td>0.0473912</td>\n      <td>0.114037</td>\n      <td>0.0113152</td>\n    </tr>\n    <tr>\n      <th>param_randomforestclassifier__criterion</th>\n      <td>entropy</td>\n      <td>gini</td>\n      <td>entropy</td>\n      <td>entropy</td>\n      <td>gini</td>\n      <td>entropy</td>\n      <td>entropy</td>\n      <td>gini</td>\n      <td>gini</td>\n      <td>gini</td>\n      <td>entropy</td>\n      <td>entropy</td>\n      <td>gini</td>\n      <td>entropy</td>\n      <td>gini</td>\n      <td>gini</td>\n      <td>entropy</td>\n      <td>gini</td>\n      <td>entropy</td>\n      <td>entropy</td>\n    </tr>\n    <tr>\n      <th>param_randomforestclassifier__max_depth</th>\n      <td>35</td>\n      <td>20</td>\n      <td>35</td>\n      <td>35</td>\n      <td>35</td>\n      <td>25</td>\n      <td>25</td>\n      <td>25</td>\n      <td>20</td>\n      <td>15</td>\n      <td>15</td>\n      <td>25</td>\n      <td>40</td>\n      <td>15</td>\n      <td>15</td>\n      <td>30</td>\n      <td>45</td>\n      <td>20</td>\n      <td>10</td>\n      <td>5</td>\n    </tr>\n    <tr>\n      <th>param_randomforestclassifier__max_features</th>\n      <td>0.812389</td>\n      <td>0.291016</td>\n      <td>0.140212</td>\n      <td>0.688322</td>\n      <td>0.438679</td>\n      <td>0.575291</td>\n      <td>0.864201</td>\n      <td>0.973985</td>\n      <td>0.980707</td>\n      <td>0.50675</td>\n      <td>0.620205</td>\n      <td>0.597784</td>\n      <td>0.394263</td>\n      <td>0.865381</td>\n      <td>0.807044</td>\n      <td>0.628037</td>\n      <td>0.0217714</td>\n      <td>0.0170376</td>\n      <td>0.241447</td>\n      <td>0.104839</td>\n    </tr>\n    <tr>\n      <th>param_randomforestclassifier__min_samples_leaf</th>\n      <td>3</td>\n      <td>1</td>\n      <td>3</td>\n      <td>2</td>\n      <td>2</td>\n      <td>3</td>\n      <td>2</td>\n      <td>3</td>\n      <td>2</td>\n      <td>3</td>\n      <td>1</td>\n      <td>1</td>\n      <td>1</td>\n      <td>3</td>\n      <td>3</td>\n      <td>1</td>\n      <td>1</td>\n      <td>3</td>\n      <td>2</td>\n      <td>3</td>\n    </tr>\n    <tr>\n      <th>param_randomforestclassifier__n_estimators</th>\n      <td>500</td>\n      <td>50</td>\n      <td>50</td>\n      <td>500</td>\n      <td>50</td>\n      <td>50</td>\n      <td>500</td>\n      <td>500</td>\n      <td>500</td>\n      <td>500</td>\n      <td>50</td>\n      <td>50</td>\n      <td>50</td>\n      <td>50</td>\n      <td>50</td>\n      <td>50</td>\n      <td>500</td>\n      <td>500</td>\n      <td>500</td>\n      <td>50</td>\n    </tr>\n    <tr>\n      <th>param_simpleimputer__strategy</th>\n      <td>mean</td>\n      <td>mean</td>\n      <td>most_frequent</td>\n      <td>median</td>\n      <td>most_frequent</td>\n      <td>most_frequent</td>\n      <td>most_frequent</td>\n      <td>most_frequent</td>\n      <td>most_frequent</td>\n      <td>median</td>\n      <td>median</td>\n      <td>median</td>\n      <td>median</td>\n      <td>most_frequent</td>\n      <td>mean</td>\n      <td>median</td>\n      <td>median</td>\n      <td>most_frequent</td>\n      <td>mean</td>\n      <td>median</td>\n    </tr>\n    <tr>\n      <th>params</th>\n      <td>{'randomforestclassifier__criterion': 'entropy...</td>\n      <td>{'randomforestclassifier__criterion': 'gini', ...</td>\n      <td>{'randomforestclassifier__criterion': 'entropy...</td>\n      <td>{'randomforestclassifier__criterion': 'entropy...</td>\n      <td>{'randomforestclassifier__criterion': 'gini', ...</td>\n      <td>{'randomforestclassifier__criterion': 'entropy...</td>\n      <td>{'randomforestclassifier__criterion': 'entropy...</td>\n      <td>{'randomforestclassifier__criterion': 'gini', ...</td>\n      <td>{'randomforestclassifier__criterion': 'gini', ...</td>\n      <td>{'randomforestclassifier__criterion': 'gini', ...</td>\n      <td>{'randomforestclassifier__criterion': 'entropy...</td>\n      <td>{'randomforestclassifier__criterion': 'entropy...</td>\n      <td>{'randomforestclassifier__criterion': 'gini', ...</td>\n      <td>{'randomforestclassifier__criterion': 'entropy...</td>\n      <td>{'randomforestclassifier__criterion': 'gini', ...</td>\n      <td>{'randomforestclassifier__criterion': 'gini', ...</td>\n      <td>{'randomforestclassifier__criterion': 'entropy...</td>\n      <td>{'randomforestclassifier__criterion': 'gini', ...</td>\n      <td>{'randomforestclassifier__criterion': 'entropy...</td>\n      <td>{'randomforestclassifier__criterion': 'entropy...</td>\n    </tr>\n    <tr>\n      <th>split0_test_score</th>\n      <td>0.797222</td>\n      <td>0.800189</td>\n      <td>0.796212</td>\n      <td>0.798359</td>\n      <td>0.797601</td>\n      <td>0.797222</td>\n      <td>0.79596</td>\n      <td>0.796402</td>\n      <td>0.796654</td>\n      <td>0.795707</td>\n      <td>0.794381</td>\n      <td>0.789962</td>\n      <td>0.790341</td>\n      <td>0.792487</td>\n      <td>0.791982</td>\n      <td>0.788699</td>\n      <td>0.785227</td>\n      <td>0.773295</td>\n      <td>0.766162</td>\n      <td>0.670139</td>\n    </tr>\n    <tr>\n      <th>split1_test_score</th>\n      <td>0.804293</td>\n      <td>0.802462</td>\n      <td>0.803725</td>\n      <td>0.802525</td>\n      <td>0.802967</td>\n      <td>0.803535</td>\n      <td>0.802652</td>\n      <td>0.801578</td>\n      <td>0.800758</td>\n      <td>0.798295</td>\n      <td>0.799053</td>\n      <td>0.798043</td>\n      <td>0.798295</td>\n      <td>0.796465</td>\n      <td>0.796465</td>\n      <td>0.79577</td>\n      <td>0.795833</td>\n      <td>0.778598</td>\n      <td>0.767235</td>\n      <td>0.710354</td>\n    </tr>\n    <tr>\n      <th>split2_test_score</th>\n      <td>0.796402</td>\n      <td>0.795202</td>\n      <td>0.79779</td>\n      <td>0.796465</td>\n      <td>0.795265</td>\n      <td>0.793371</td>\n      <td>0.792992</td>\n      <td>0.791351</td>\n      <td>0.791288</td>\n      <td>0.789331</td>\n      <td>0.788889</td>\n      <td>0.791667</td>\n      <td>0.79053</td>\n      <td>0.787437</td>\n      <td>0.786679</td>\n      <td>0.789205</td>\n      <td>0.788258</td>\n      <td>0.774369</td>\n      <td>0.759912</td>\n      <td>0.699179</td>\n    </tr>\n    <tr>\n      <th>mean_test_score</th>\n      <td>0.799306</td>\n      <td>0.799285</td>\n      <td>0.799242</td>\n      <td>0.799116</td>\n      <td>0.798611</td>\n      <td>0.798043</td>\n      <td>0.797201</td>\n      <td>0.796444</td>\n      <td>0.796233</td>\n      <td>0.794444</td>\n      <td>0.794108</td>\n      <td>0.793224</td>\n      <td>0.793056</td>\n      <td>0.79213</td>\n      <td>0.791709</td>\n      <td>0.791225</td>\n      <td>0.789773</td>\n      <td>0.775421</td>\n      <td>0.764436</td>\n      <td>0.693224</td>\n    </tr>\n    <tr>\n      <th>std_test_score</th>\n      <td>0.00354249</td>\n      <td>0.0030322</td>\n      <td>0.00323431</td>\n      <td>0.00253156</td>\n      <td>0.00322444</td>\n      <td>0.00418988</td>\n      <td>0.00403986</td>\n      <td>0.00417537</td>\n      <td>0.00387743</td>\n      <td>0.00376713</td>\n      <td>0.004154</td>\n      <td>0.00347789</td>\n      <td>0.00370597</td>\n      <td>0.00369425</td>\n      <td>0.00399953</td>\n      <td>0.00322073</td>\n      <td>0.00446049</td>\n      <td>0.00228923</td>\n      <td>0.0032291</td>\n      <td>0.016949</td>\n    </tr>\n    <tr>\n      <th>rank_test_score</th>\n      <td>1</td>\n      <td>2</td>\n      <td>3</td>\n      <td>4</td>\n      <td>5</td>\n      <td>6</td>\n      <td>7</td>\n      <td>8</td>\n      <td>9</td>\n      <td>10</td>\n      <td>11</td>\n      <td>12</td>\n      <td>13</td>\n      <td>14</td>\n      <td>15</td>\n      <td>16</td>\n      <td>17</td>\n      <td>18</td>\n      <td>19</td>\n      <td>20</td>\n    </tr>\n    <tr>\n      <th>split0_train_score</th>\n      <td>0.932323</td>\n      <td>0.960322</td>\n      <td>0.887027</td>\n      <td>0.964426</td>\n      <td>0.946244</td>\n      <td>0.923895</td>\n      <td>0.964994</td>\n      <td>0.923706</td>\n      <td>0.939489</td>\n      <td>0.866067</td>\n      <td>0.899937</td>\n      <td>0.995802</td>\n      <td>0.997601</td>\n      <td>0.876357</td>\n      <td>0.869287</td>\n      <td>0.997159</td>\n      <td>0.99839</td>\n      <td>0.821433</td>\n      <td>0.783491</td>\n      <td>0.673201</td>\n    </tr>\n    <tr>\n      <th>split1_train_score</th>\n      <td>0.933365</td>\n      <td>0.965593</td>\n      <td>0.885606</td>\n      <td>0.966319</td>\n      <td>0.948801</td>\n      <td>0.924527</td>\n      <td>0.96654</td>\n      <td>0.923011</td>\n      <td>0.938289</td>\n      <td>0.864394</td>\n      <td>0.898927</td>\n      <td>0.995896</td>\n      <td>0.997696</td>\n      <td>0.873295</td>\n      <td>0.869571</td>\n      <td>0.997222</td>\n      <td>0.998327</td>\n      <td>0.822917</td>\n      <td>0.784501</td>\n      <td>0.707702</td>\n    </tr>\n    <tr>\n      <th>split2_train_score</th>\n      <td>0.932923</td>\n      <td>0.966351</td>\n      <td>0.883333</td>\n      <td>0.965183</td>\n      <td>0.947159</td>\n      <td>0.923106</td>\n      <td>0.966035</td>\n      <td>0.923958</td>\n      <td>0.935574</td>\n      <td>0.862532</td>\n      <td>0.894665</td>\n      <td>0.994855</td>\n      <td>0.997569</td>\n      <td>0.871212</td>\n      <td>0.863889</td>\n      <td>0.996907</td>\n      <td>0.998264</td>\n      <td>0.824811</td>\n      <td>0.783965</td>\n      <td>0.706913</td>\n    </tr>\n    <tr>\n      <th>mean_train_score</th>\n      <td>0.93287</td>\n      <td>0.964089</td>\n      <td>0.885322</td>\n      <td>0.965309</td>\n      <td>0.947401</td>\n      <td>0.923843</td>\n      <td>0.965856</td>\n      <td>0.923559</td>\n      <td>0.937784</td>\n      <td>0.864331</td>\n      <td>0.897843</td>\n      <td>0.995518</td>\n      <td>0.997622</td>\n      <td>0.873622</td>\n      <td>0.867582</td>\n      <td>0.997096</td>\n      <td>0.998327</td>\n      <td>0.823053</td>\n      <td>0.783986</td>\n      <td>0.695939</td>\n    </tr>\n    <tr>\n      <th>std_train_score</th>\n      <td>0.000426883</td>\n      <td>0.00268145</td>\n      <td>0.00152106</td>\n      <td>0.000778335</td>\n      <td>0.00105775</td>\n      <td>0.00058109</td>\n      <td>0.000643988</td>\n      <td>0.000400385</td>\n      <td>0.00163736</td>\n      <td>0.00144399</td>\n      <td>0.00228444</td>\n      <td>0.000470318</td>\n      <td>5.36513e-05</td>\n      <td>0.00211314</td>\n      <td>0.00261405</td>\n      <td>0.000136379</td>\n      <td>5.15465e-05</td>\n      <td>0.00138226</td>\n      <td>0.00041264</td>\n      <td>0.0160813</td>\n    </tr>\n  </tbody>\n</table>\n</div>"
          },
          "metadata": {},
          "execution_count": 27
        }
      ],
      "source": [
        "pd.DataFrame(search.cv_results_).sort_values(by='rank_test_score').T"
      ]
    },
    {
      "cell_type": "code",
      "execution_count": 28,
      "metadata": {},
      "outputs": [],
      "source": [
        "pipeline = search.best_estimator_"
      ]
    },
    {
      "cell_type": "code",
      "execution_count": 29,
      "metadata": {},
      "outputs": [],
      "source": [
        "from sklearn.metrics import mean_absolute_error\n",
        "\n",
        "# X_test = test[features]\n",
        "# y_test = test[target]\n",
        "\n",
        "y_pred = pipeline.predict(X_test)\n",
        "# mae = mean_absolute_error(y_test, y_pred)\n",
        "# print(f'Test MAE: ${mae:,.0f}')"
      ]
    },
    {
      "cell_type": "code",
      "execution_count": 30,
      "metadata": {},
      "outputs": [
        {
          "output_type": "execute_result",
          "data": {
            "text/plain": "0.8124579124579124"
          },
          "metadata": {},
          "execution_count": 30
        }
      ],
      "source": [
        "pipeline.score(X_val, y_val)"
      ]
    },
    {
      "cell_type": "code",
      "execution_count": 36,
      "metadata": {},
      "outputs": [],
      "source": [
        "# Create submission file\n",
        "# submission = test[['id']].copy()\n",
        "submission['status_group']=y_pred\n",
        "submission.to_csv('Kaggle-0514-test1.csv', index=False)"
      ]
    },
    {
      "cell_type": "code",
      "execution_count": null,
      "metadata": {},
      "outputs": [],
      "source": []
    }
  ],
  "metadata": {
    "kernelspec": {
      "display_name": "Python 3.7.6 64-bit ('base': conda)",
      "language": "python",
      "name": "python37664bitbaseconda062aaadf6fe649f9beb295b82a5e77a6"
    },
    "language_info": {
      "codemirror_mode": {
        "name": "ipython",
        "version": 3
      },
      "file_extension": ".py",
      "mimetype": "text/x-python",
      "name": "python",
      "nbconvert_exporter": "python",
      "pygments_lexer": "ipython3",
      "version": "3.7.6-final"
    },
    "colab": {
      "name": "LS_DS_223_assignment.ipynb",
      "provenance": []
    }
  },
  "nbformat": 4,
  "nbformat_minor": 0
}